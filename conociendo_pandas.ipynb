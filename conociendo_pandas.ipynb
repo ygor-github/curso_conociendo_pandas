{
 "cells": [
  {
   "cell_type": "code",
   "execution_count": 1,
   "id": "8e50f33a-149e-4fb4-8265-a3782b42a18b",
   "metadata": {},
   "outputs": [],
   "source": [
    "import pandas as pd\n",
    "import numpy as np\n"
   ]
  },
  {
   "cell_type": "markdown",
   "id": "e17c0554-7f7a-4d8a-8a18-55c3a08b0349",
   "metadata": {},
   "source": [
    "Importanto bando de datos de de url"
   ]
  },
  {
   "cell_type": "code",
   "execution_count": 7,
   "id": "a61c69ba-e58b-4dce-a29f-1117a40dda8f",
   "metadata": {},
   "outputs": [],
   "source": [
    "url ='https://raw.githubusercontent.com/alura-cursos/pandas-conhecendo-a-biblioteca/main/base-de-dados/aluguel.csv'"
   ]
  },
  {
   "cell_type": "code",
   "execution_count": 12,
   "id": "b2460051-caeb-43e7-8a83-c94bdf53b44f",
   "metadata": {},
   "outputs": [
    {
     "data": {
      "text/html": [
       "<div>\n",
       "<style scoped>\n",
       "    .dataframe tbody tr th:only-of-type {\n",
       "        vertical-align: middle;\n",
       "    }\n",
       "\n",
       "    .dataframe tbody tr th {\n",
       "        vertical-align: top;\n",
       "    }\n",
       "\n",
       "    .dataframe thead th {\n",
       "        text-align: right;\n",
       "    }\n",
       "</style>\n",
       "<table border=\"1\" class=\"dataframe\">\n",
       "  <thead>\n",
       "    <tr style=\"text-align: right;\">\n",
       "      <th></th>\n",
       "      <th>Tipo;Bairro;Quartos;Vagas;Suites;Area;Valor;Condominio;IPTU</th>\n",
       "    </tr>\n",
       "  </thead>\n",
       "  <tbody>\n",
       "    <tr>\n",
       "      <th>0</th>\n",
       "      <td>Quitinete;Copacabana;1;0;0;40;1700;500;60</td>\n",
       "    </tr>\n",
       "    <tr>\n",
       "      <th>1</th>\n",
       "      <td>Casa;Jardim Botânico;2;0;1;100;7000;;</td>\n",
       "    </tr>\n",
       "    <tr>\n",
       "      <th>2</th>\n",
       "      <td>Conjunto Comercial/Sala;Barra da Tijuca;0;4;0;...</td>\n",
       "    </tr>\n",
       "    <tr>\n",
       "      <th>3</th>\n",
       "      <td>Apartamento;Centro;1;0;0;15;800;390;20</td>\n",
       "    </tr>\n",
       "    <tr>\n",
       "      <th>4</th>\n",
       "      <td>Apartamento;Higienópolis;1;0;0;48;800;230;</td>\n",
       "    </tr>\n",
       "    <tr>\n",
       "      <th>...</th>\n",
       "      <td>...</td>\n",
       "    </tr>\n",
       "    <tr>\n",
       "      <th>32955</th>\n",
       "      <td>Quitinete;Centro;0;0;0;27;800;350;25</td>\n",
       "    </tr>\n",
       "    <tr>\n",
       "      <th>32956</th>\n",
       "      <td>Apartamento;Jacarepaguá;3;1;2;78;1800;800;40</td>\n",
       "    </tr>\n",
       "    <tr>\n",
       "      <th>32957</th>\n",
       "      <td>Apartamento;São Francisco Xavier;2;1;0;48;1400...</td>\n",
       "    </tr>\n",
       "    <tr>\n",
       "      <th>32958</th>\n",
       "      <td>Apartamento;Leblon;2;0;0;70;3000;760;</td>\n",
       "    </tr>\n",
       "    <tr>\n",
       "      <th>32959</th>\n",
       "      <td>Conjunto Comercial/Sala;Centro;0;0;0;250;6500;...</td>\n",
       "    </tr>\n",
       "  </tbody>\n",
       "</table>\n",
       "<p>32960 rows × 1 columns</p>\n",
       "</div>"
      ],
      "text/plain": [
       "      Tipo;Bairro;Quartos;Vagas;Suites;Area;Valor;Condominio;IPTU\n",
       "0              Quitinete;Copacabana;1;0;0;40;1700;500;60         \n",
       "1                  Casa;Jardim Botânico;2;0;1;100;7000;;         \n",
       "2      Conjunto Comercial/Sala;Barra da Tijuca;0;4;0;...         \n",
       "3                 Apartamento;Centro;1;0;0;15;800;390;20         \n",
       "4             Apartamento;Higienópolis;1;0;0;48;800;230;         \n",
       "...                                                  ...         \n",
       "32955               Quitinete;Centro;0;0;0;27;800;350;25         \n",
       "32956       Apartamento;Jacarepaguá;3;1;2;78;1800;800;40         \n",
       "32957  Apartamento;São Francisco Xavier;2;1;0;48;1400...         \n",
       "32958              Apartamento;Leblon;2;0;0;70;3000;760;         \n",
       "32959  Conjunto Comercial/Sala;Centro;0;0;0;250;6500;...         \n",
       "\n",
       "[32960 rows x 1 columns]"
      ]
     },
     "execution_count": 12,
     "metadata": {},
     "output_type": "execute_result"
    }
   ],
   "source": [
    "df = pd.read_csv(url)\n",
    "df"
   ]
  },
  {
   "cell_type": "code",
   "execution_count": null,
   "id": "d96d19ff-8bc6-4c1d-a878-b4688680e936",
   "metadata": {},
   "outputs": [],
   "source": []
  }
 ],
 "metadata": {
  "kernelspec": {
   "display_name": "Python (mi_entorno)",
   "language": "python",
   "name": "mi_entorno"
  },
  "language_info": {
   "codemirror_mode": {
    "name": "ipython",
    "version": 3
   },
   "file_extension": ".py",
   "mimetype": "text/x-python",
   "name": "python",
   "nbconvert_exporter": "python",
   "pygments_lexer": "ipython3",
   "version": "3.13.2"
  }
 },
 "nbformat": 4,
 "nbformat_minor": 5
}
